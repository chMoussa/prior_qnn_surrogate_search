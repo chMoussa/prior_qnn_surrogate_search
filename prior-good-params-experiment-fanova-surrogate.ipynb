{
 "cells": [
  {
   "cell_type": "code",
   "execution_count": null,
   "id": "70914c5f-4b5e-4a69-a68e-45b67871af10",
   "metadata": {},
   "outputs": [],
   "source": [
    "import os\n",
    "import pickle\n",
    "from scipy.stats import gaussian_kde\n",
    "from sklearn.neighbors import KernelDensity"
   ]
  },
  {
   "cell_type": "code",
   "execution_count": null,
   "id": "f9ac80e9-d8d2-4c70-9afd-fd457ea3597b",
   "metadata": {},
   "outputs": [],
   "source": [
    "from srcfanova.confspace_utils import get_configspace, integer_encode_dataframe\n",
    "\n",
    "\n",
    "import itertools as it\n",
    "from collections import OrderedDict\n",
    "\n",
    "import ConfigSpace\n",
    "import numpy as np\n",
    "import pandas as pd\n",
    "import pyrfr.regression as reg\n",
    "import pyrfr.util\n",
    "from ConfigSpace.hyperparameters import CategoricalHyperparameter, UniformFloatHyperparameter, \\\n",
    "    NumericalHyperparameter, Constant, OrdinalHyperparameter\n",
    "\n",
    "from surrogate import fANOVA_surrogate\n",
    "from hyperband_finite import HyperBandOptimiser\n",
    "\n",
    "from typing import List"
   ]
  },
  {
   "cell_type": "markdown",
   "id": "76254a17-97c3-4219-86d9-94a04bb9b99b",
   "metadata": {},
   "source": [
    "# Prepare data for fitting surrogate models "
   ]
  },
  {
   "cell_type": "code",
   "execution_count": null,
   "id": "b4d830e3-d523-4e23-bab6-f3c1c4660dac",
   "metadata": {},
   "outputs": [],
   "source": [
    "dataf = pd.read_csv(\"./nonaggresults_hyper.csv\", sep=\",\").groupby(by=['batchsize',\n",
    " 'depth',\n",
    " 'entangler_operation',\n",
    " 'have_less_rotations',\n",
    " 'input_activation_function',\n",
    " 'is_data_encoding_hardware_efficient',\n",
    " 'learning_rate',\n",
    " 'map_type',\n",
    " 'output_circuit',\n",
    " 'use_reuploading',\n",
    "'dataset', \"task_id\", \"epochs\"]).agg({'val_binary_accuracy': 'max'}).reset_index()\n",
    "\n",
    "# removing these two datasets because the performance can not be explained using ANOVA\n",
    "dataf = dataf[dataf.dataset != 'ilpd']\n",
    "dataf = dataf[dataf.dataset != 'blood-transfusion-service-center']\n",
    "# del dataf['\n",
    "dataf = dataf.reset_index()\n",
    "task_ids = sorted(dataf['task_id'].unique())\n",
    "\n",
    "measure = 'val_binary_accuracy'\n",
    "\n",
    "# important hyperparameter keys to consider: learning_rate, depth, use_reuploading, input_activation_function\n",
    "# make sure data is numerical and in right order for configspace\n",
    "config_space = get_configspace(bool(1))\n",
    "cs_params = config_space.get_hyperparameter_names()\n",
    "\n",
    "original_df = dataf.loc[:, [cs_params[i] for i in range(len(cs_params))]]\n",
    "\n",
    "data = dataf.loc[:, [cs_params[i] for i in range(len(cs_params))]]\n",
    "data = integer_encode_dataframe(data, config_space)\n",
    "data['task_id'] = dataf.task_id\n",
    "data['dataset'] = dataf.dataset\n",
    "data[measure] = dataf[measure]"
   ]
  },
  {
   "cell_type": "markdown",
   "id": "737a54af-ce01-4be9-8942-12483ebb82cf",
   "metadata": {},
   "source": [
    "# Fit surrogate models"
   ]
  },
  {
   "cell_type": "code",
   "execution_count": null,
   "id": "15a2fcb5-c216-47c9-b4b0-0779522af56e",
   "metadata": {},
   "outputs": [],
   "source": [
    "model_per_task = {}\n",
    "n_trees= 128\n",
    "\n",
    "for t_idx, task_id in enumerate(task_ids):\n",
    "    \n",
    "    data_task = data[data['task_id'] == task_id]\n",
    "    del data_task['task_id']\n",
    "    del data_task['dataset']\n",
    "    \n",
    "    y_data = data_task[measure].values\n",
    "    X_data = data_task.copy()\n",
    "    del X_data[measure]\n",
    "    \n",
    "    model_per_task[task_id] = fANOVA_surrogate(X=X_data, Y=y_data, n_trees=n_trees, seed=t_idx)"
   ]
  },
  {
   "cell_type": "code",
   "execution_count": null,
   "id": "79ce26c8-4576-437d-8d74-f4444de6c3f5",
   "metadata": {},
   "outputs": [],
   "source": [
    "model_per_task"
   ]
  },
  {
   "cell_type": "markdown",
   "id": "0f18a5eb-a993-4fda-881e-18f7adfbcd9b",
   "metadata": {},
   "source": [
    "# Hyperband Optimisation Uniform vs KDE Prior Experiment\n",
    "\n",
    "The experiment configuration for the uniform prior experiment is defined in the next cell."
   ]
  },
  {
   "cell_type": "code",
   "execution_count": null,
   "id": "98eaa15f-f0b0-4ea0-8dcd-b5d47e4b3709",
   "metadata": {},
   "outputs": [],
   "source": [
    "n_runs = 15\n",
    "\n",
    "seed_exp = np.arange(n_runs)\n",
    "eta_exp = [2, 3, 4] # halving factor\n",
    "max_iter_exp = [int(50), int(1e2)] # epochs, can be though of as number of shots to compute the expectation value.\n",
    "search_type = 'uniform' "
   ]
  },
  {
   "cell_type": "markdown",
   "id": "07027eea-549c-4f45-8003-fcb3f6015267",
   "metadata": {},
   "source": [
    "# Run hyperband algorithm with uniform priors\n",
    "\n",
    "Doing a search over hyperparameter configuration space by employing hyperband with uniform sampling of hyperparameters. The objective is to find the hyperparameter configuration which gives maximum validation accuracy of the surrogate model."
   ]
  },
  {
   "cell_type": "code",
   "execution_count": null,
   "id": "5a13f7a5-b765-4888-8e5a-0960c2833b4f",
   "metadata": {},
   "outputs": [],
   "source": [
    "# For uniform prior experiments\n",
    "\n",
    "for max_iter in max_iter_exp:\n",
    "    for eta in eta_exp:\n",
    "        for task_id in task_ids:\n",
    "            for seed in seed_exp:\n",
    "                optimiser = HyperBandOptimiser(eta=eta,\n",
    "                                                       config_space=config_space,\n",
    "                                                       optimisation_goal='performance',\n",
    "                                                       max_iter=max_iter,\n",
    "                                                       min_or_max=max,\n",
    "                                                       task_id=task_id,\n",
    "                                                       search_type='uniform',\n",
    "                                                       seed_nb=seed,\n",
    "                                                       pickle_path=None)\n",
    "\n",
    "                best_config = optimiser.run_optimisation(model_for_task_id=model_per_task[task_id],\n",
    "                                                                 all_data=data,\n",
    "                                                                 store_optimiser=True,\n",
    "                                                                 verbosity=False)\n",
    "                # print(best_config)"
   ]
  },
  {
   "cell_type": "markdown",
   "id": "1b606e57-9129-4822-a93c-499a3561c802",
   "metadata": {},
   "source": [
    "# Retrieve & Save necessary results  "
   ]
  },
  {
   "cell_type": "code",
   "execution_count": null,
   "id": "a23168c3-b4a0-4dda-b855-13030af3379f",
   "metadata": {},
   "outputs": [],
   "source": [
    "\n",
    "for max_iter in max_iter_exp:\n",
    "    for eta in eta_exp:\n",
    "        \n",
    "        results = {}\n",
    "\n",
    "        for task_id in task_ids:\n",
    "            results[task_id] = {}\n",
    "\n",
    "        for task_id in task_ids:\n",
    "            for seed in seed_exp:\n",
    "                f_name = f'./optimiser/{search_type}/task_id{task_id}_search_{search_type}_eta_{eta}_max_iter_{max_iter}_seed_{seed}.pckl'\n",
    "                optimiser = pickle.load(open(f_name, 'rb'))\n",
    "                # results[task_id][seed] = optimiser.eval_history\n",
    "                results[task_id][seed] = {'eval_history': optimiser.eval_history, 'best_config_history': optimiser.config_history_w_perf}\n",
    "\n",
    "                f_name = f'./data/{search_type}_eta_{eta}_max_iter_{max_iter}.pckl'\n",
    "                os.makedirs(os.path.dirname(f_name), exist_ok=True)\n",
    "                pickle.dump(results, open(f_name, 'wb'), protocol=pickle.HIGHEST_PROTOCOL)\n",
    "                    "
   ]
  },
  {
   "cell_type": "markdown",
   "id": "bfbcba01-b92a-483b-bb80-354278324c9f",
   "metadata": {},
   "source": [
    "# Run hyperband algorithm with KDE priors"
   ]
  },
  {
   "cell_type": "markdown",
   "id": "394715e7-45ea-48ab-87be-5f7474a6b302",
   "metadata": {},
   "source": [
    "The experiment configuration for the uniform prior experiment is defined in the next cell."
   ]
  },
  {
   "cell_type": "code",
   "execution_count": null,
   "id": "40145d82-9676-4a49-8994-8fe2c9971a19",
   "metadata": {},
   "outputs": [],
   "source": [
    "n_runs = 15\n",
    "\n",
    "best_N_exp = [10, 20]\n",
    "seed_exp = np.arange(n_runs)\n",
    "eta_exp = [2, 3, 4]\n",
    "max_iter_exp = [int(50), int(1e2)] \n",
    "search_type = 'kde'\n",
    "\n",
    "# this is given as a list of a list, where the inside list contains the indices of (important) hyperparameters\n",
    "# Index {6: learning_rate, 1: depth, 4: input_activation_function, 9: use_reuploading}\n",
    "# Important hyperparams considered in this study are top-K where K \\in \\{1, 2, 3, 4\\}\n",
    "imp_hyperparams_list_exp = [[6], [6, 1], [6, 1, 4], [6, 1, 4, 9]]\n",
    "kde_bw_estimator_exp = ['sj', 'silverman'] # bandwith estimator for kde to fit the data"
   ]
  },
  {
   "cell_type": "markdown",
   "id": "9f6f7336-3d78-4719-a4b8-c7bcb4023573",
   "metadata": {},
   "source": [
    "Doing a search over hyperparameter configuration space by employing hyperband with (some, mostly important ones) hyperparameters sampled from kernel density estimator which is fitted with best_N performing hyperparameter configurations for each task."
   ]
  },
  {
   "cell_type": "code",
   "execution_count": null,
   "id": "f22b4092-57f5-4b56-9b8d-222adb62dd03",
   "metadata": {},
   "outputs": [],
   "source": [
    "# For kde prior experiments\n",
    "\n",
    "for imp_hyperparams_list in imp_hyperparams_list_exp:\n",
    "    for kde_bw_estimator in kde_bw_estimator_exp:\n",
    "        for max_iter in max_iter_exp:\n",
    "            for eta in eta_exp:\n",
    "                for best_N in best_N_exp:\n",
    "                    for task_id in task_ids:\n",
    "                        for seed in seed_exp:\n",
    "                            optimiser = HyperBandOptimiser(eta=eta,\n",
    "                                                           config_space=config_space,\n",
    "                                                           optimisation_goal='performance',\n",
    "                                                           max_iter=max_iter,\n",
    "                                                           min_or_max=max,\n",
    "                                                           task_id=task_id,\n",
    "                                                           search_type='kde',\n",
    "                                                           important_hyperparams_indices=imp_hyperparams_list,\n",
    "                                                           best_N=best_N,\n",
    "                                                           seed_nb=seed,\n",
    "                                                           kde_bw_estimator=kde_bw_estimator,\n",
    "                                                           kde_bw=None,\n",
    "                                                           pickle_path=None)\n",
    "\n",
    "                            best_config = optimiser.run_optimisation(model_for_task_id=model_per_task[task_id],\n",
    "                                                                     all_data=data,\n",
    "                                                                     store_optimiser=True,\n",
    "                                                                     verbosity=False)\n",
    "                            # print(best_config)"
   ]
  },
  {
   "cell_type": "markdown",
   "id": "dd7b5218-8b49-40b9-ae8e-020ad0cead95",
   "metadata": {},
   "source": [
    "# Retrieve & Save necessary results  "
   ]
  },
  {
   "cell_type": "code",
   "execution_count": null,
   "id": "8b186eed-415b-4302-9a25-782c735e63a4",
   "metadata": {},
   "outputs": [],
   "source": [
    "\n",
    "for imp_hyperparams_list in imp_hyperparams_list_exp:\n",
    "    for max_iter in max_iter_exp:\n",
    "        for eta in eta_exp:\n",
    "            for best_N in best_N_exp:\n",
    "                for kde_bw_estimator in kde_bw_estimator_exp:\n",
    "\n",
    "                    results = {}\n",
    "                    for task_id in task_ids:\n",
    "                        results[task_id] = {}\n",
    "\n",
    "                    for task_id in task_ids:\n",
    "                        for seed in seed_exp:\n",
    "                            opt_f_name = f'./optimiser/{search_type}/task_id{task_id}_search_{search_type}_bw_None_bw_est_{kde_bw_estimator}_bestN_{best_N}_eta_{eta}_max_iter_{max_iter}_imp_hyp_{imp_hyperparams_list}_seed_{seed}.pckl'\n",
    "                            optimiser = pickle.load(open(opt_f_name, 'rb'))\n",
    "                            results[task_id][seed] = {'eval_history': optimiser.eval_history, 'best_config_history': optimiser.config_history_w_perf}\n",
    "                    \n",
    "                    f_name = f'./data/{search_type}_bw_est_{kde_bw_estimator}_bestN_{best_N}_eta_{eta}_max_iter_{max_iter}_imp_hyp_{imp_hyperparams_list}.pckl'\n",
    "                    os.makedirs(os.path.dirname(f_name), exist_ok=True)\n",
    "                    pickle.dump(results, open(f_name, 'wb'), protocol=pickle.HIGHEST_PROTOCOL)\n",
    "                        "
   ]
  },
  {
   "cell_type": "markdown",
   "id": "bc9e779d-8fd8-46f7-9f9f-3e5e8062fb07",
   "metadata": {},
   "source": [
    "# Data Preparation for the Plots"
   ]
  },
  {
   "cell_type": "code",
   "execution_count": null,
   "id": "499ae077-6c9f-4d9f-bc42-982479cfef59",
   "metadata": {},
   "outputs": [],
   "source": [
    "data_directory = './data/'\n",
    "df = pd.DataFrame(columns=['task_id', 'seed', 'max_iter', 'eta', 'imp_hyperparams', 'best_N', 'bw_estimator', 'result_kde', 'result_uniform', 'epochs_kde', 'epochs_uniform', 'difference'])"
   ]
  },
  {
   "cell_type": "code",
   "execution_count": null,
   "id": "d18f88af-904b-4a0a-baca-7ca031e231c6",
   "metadata": {},
   "outputs": [],
   "source": [
    "def get_max_perf_epochs(results_file, task_id, seed):\n",
    "    _max_perf = 0\n",
    "    _epochs = 0\n",
    "    epoch_history = []\n",
    "    for key in results_file[task_id][seed]['best_config_history'].keys():\n",
    "        if len(results_file[task_id][seed]['best_config_history'][key]['performance']) > 1:\n",
    "            epoch_idx = results_file[task_id][seed]['best_config_history'][key]['epochs'].argmin()\n",
    "            perf = float(results_file[task_id][seed]['best_config_history'][key]['performance'].values[epoch_idx])\n",
    "            epoch = int(results_file[task_id][seed]['best_config_history'][key]['epochs'].values[epoch_idx])\n",
    "        else:\n",
    "            perf = float(results_file[task_id][seed]['best_config_history'][key]['performance'])\n",
    "            epoch = int(results_file[task_id][seed]['best_config_history'][key]['epochs'])\n",
    "        epoch_history.append(epoch)\n",
    "        if perf > _max_perf:\n",
    "            _max_perf = perf\n",
    "            _epochs = epoch\n",
    "    return _epochs, epoch_history"
   ]
  },
  {
   "cell_type": "code",
   "execution_count": null,
   "id": "6c629a63-4e32-4911-b966-e5067d4de2b9",
   "metadata": {},
   "outputs": [],
   "source": []
  },
  {
   "cell_type": "code",
   "execution_count": null,
   "id": "a74b60d8-fba1-4055-b05d-481e26fab581",
   "metadata": {},
   "outputs": [],
   "source": [
    "import warnings\n",
    "warnings.filterwarnings(\"ignore\")\n",
    "import matplotlib.pyplot as plt\n",
    "\n",
    "data_plot = []\n",
    "\n",
    "for imp_hyperparams_list in imp_hyperparams_list_exp:\n",
    "    for max_iter in max_iter_exp:\n",
    "        for eta in eta_exp:\n",
    "            \n",
    "            f_uni_name = data_directory + f'uniform_eta_{eta}_max_iter_{max_iter}.pckl'\n",
    "            uni_results = pickle.load(open(f_uni_name, 'rb'))\n",
    "\n",
    "            for best_N in best_N_exp:\n",
    "                for kde_bw_estimator in kde_bw_estimator_exp:\n",
    "                    # data = []                                \n",
    "                    f_kde_name = data_directory + f'kde_bw_est_{kde_bw_estimator}_bestN_{best_N}_eta_{eta}_max_iter_{max_iter}_imp_hyp_{imp_hyperparams_list}.pckl'\n",
    "                    kde_results = pickle.load(open(f_kde_name, 'rb'))\n",
    "\n",
    "                    for task_id in task_ids:\n",
    "                        for seed in seed_exp:\n",
    "\n",
    "                            scores_kde = np.max(kde_results[task_id][seed]['eval_history'])\n",
    "                            scores_uniform = np.max(uni_results[task_id][seed]['eval_history'])\n",
    "                            \n",
    "                            epochs_kde, _ = get_max_perf_epochs(kde_results, task_id, seed)\n",
    "                            epochs_uniform, _ = get_max_perf_epochs(uni_results, task_id, seed)\n",
    "                            \n",
    "                            current_difference = scores_kde - scores_uniform\n",
    "                            # rel_current_difference = (scores_kde - scores_uniform) / scores_uniform\n",
    "                            data_plot.append(rel_current_difference)\n",
    "\n",
    "                            current_row = {'task_id': task_id, 'seed': seed, 'max_iter': max_iter, 'eta': eta, 'imp_hyperparams': imp_hyperparams_list, 'best_N': best_N, 'bw_estimator': kde_bw_estimator, 'result_kde': scores_kde, 'result_uniform': scores_uniform, 'epochs_kde': epochs_kde, 'epochs_uniform': epochs_uniform, 'difference': current_difference}\n",
    "                            df = df.append(current_row, ignore_index=True)\n",
    "                        "
   ]
  },
  {
   "cell_type": "code",
   "execution_count": null,
   "id": "045e6c22-da1e-4481-a828-df77c755b7fa",
   "metadata": {},
   "outputs": [],
   "source": [
    "# For saving the data so that one does not have to redo the post-processing again.\n",
    "# df.to_csv('kde_vs_uniform_all_data.csv')"
   ]
  },
  {
   "cell_type": "markdown",
   "id": "755c54f1-85de-4677-9c8d-2125bc90f0aa",
   "metadata": {},
   "source": [
    "# Statistics of Hyperband runs"
   ]
  },
  {
   "cell_type": "code",
   "execution_count": null,
   "id": "1ac477c2-3a1d-4fdd-8008-1526f47483e3",
   "metadata": {},
   "outputs": [],
   "source": [
    "for col in df.columns[:-1]:\n",
    "    df[f'{col}'] = df[f'{col}'].astype('string')\n",
    "df['difference'] = df['difference'].astype('float')\n",
    "\n",
    "df_mean = df.groupby(by=['max_iter', 'eta', 'imp_hyperparams', 'best_N', \n",
    "                     'bw_estimator'])['difference'].mean().reset_index()\n",
    "\n"
   ]
  },
  {
   "cell_type": "code",
   "execution_count": null,
   "id": "220b1d15-c583-432f-b8f8-6d1adeb2bf14",
   "metadata": {},
   "outputs": [],
   "source": [
    "print(np.mean(data_plot), np.median(data_plot), np.max(data_plot)) # statistics for all runs!"
   ]
  },
  {
   "cell_type": "code",
   "execution_count": null,
   "id": "b6d635b9-efd5-4a6d-8f74-4674333ed7ba",
   "metadata": {},
   "outputs": [],
   "source": [
    "positive_count = 0\n",
    "negative_count = 0\n",
    "\n",
    "for i in data_plot:\n",
    "    if i > 0:\n",
    "        positive_count += 1\n",
    "    else:\n",
    "        negative_count += 1\n",
    "\n",
    "print(f'Percentage of positive is {positive_count/len(data_plot)} and negative is {negative_count/len(data_plot)}')"
   ]
  },
  {
   "cell_type": "markdown",
   "id": "d7543c74-e4ff-4182-99e7-35069a847a18",
   "metadata": {},
   "source": [
    "## Best Hyperband run on Average"
   ]
  },
  {
   "cell_type": "code",
   "execution_count": null,
   "id": "e44ec2d7-20f8-4189-8505-0ba45ec15844",
   "metadata": {},
   "outputs": [],
   "source": [
    "df_mean.iloc[df_mean['difference'].idxmax()] # best mean run of all hyperband runs."
   ]
  },
  {
   "cell_type": "markdown",
   "id": "520c0209-cb4f-4b0f-a316-30ebc1ff4a7e",
   "metadata": {},
   "source": [
    "## Worst Hyperband run on Average\n"
   ]
  },
  {
   "cell_type": "code",
   "execution_count": null,
   "id": "39001b34-8f76-4960-b5f9-2b9391e0830a",
   "metadata": {},
   "outputs": [],
   "source": [
    "df_mean.iloc[df_mean['difference'].idxmin()] # worst mean run of all hyperband runs."
   ]
  },
  {
   "cell_type": "markdown",
   "id": "714b2368-60bf-4789-8650-3f74183b510a",
   "metadata": {},
   "source": [
    "Best run on average stats"
   ]
  },
  {
   "cell_type": "code",
   "execution_count": null,
   "id": "0a839232-d018-4974-a598-327691972637",
   "metadata": {},
   "outputs": [],
   "source": [
    "# data for best mean run\n",
    "\n",
    "n_runs = 15\n",
    "seed_exp = np.arange(n_runs)\n",
    "max_iter_best = 50\n",
    "eta_best = 4\n",
    "imp_hyperparam_best = [6, 1, 4]\n",
    "bestN_best = 20\n",
    "bw_best = 'sj'\n",
    "\n",
    "f_name_uni_best = f'./data/uniform_eta_{eta_best}_max_iter_{max_iter_best}.pckl'\n",
    "uni_results_best = pickle.load(open(f_name_uni_best, 'rb'))\n",
    "\n",
    "f_name_kde_best = f'./data/kde_bw_est_{bw_best}_bestN_{bestN_best}_eta_{eta_best}_max_iter_{max_iter_best}_imp_hyp_{imp_hyperparam_best}.pckl'\n",
    "kde_results_best = pickle.load(open(f_name_kde_best, 'rb'))\n",
    "\n",
    "data_plot_best_run = []\n",
    "for task_id in task_ids:\n",
    "    for seed in seed_exp:\n",
    "\n",
    "        scores_kde = np.max(kde_results_best[task_id][seed]['eval_history'])\n",
    "        scores_uniform = np.max(uni_results_best[task_id][seed]['eval_history'])\n",
    "        current_difference = scores_kde - scores_uniform\n",
    "        data_plot_best_run.append(current_difference)"
   ]
  },
  {
   "cell_type": "code",
   "execution_count": null,
   "id": "049b00ea-fd35-4b33-83fd-ac9b1e5c1b52",
   "metadata": {},
   "outputs": [],
   "source": [
    "print(np.mean(data_plot_best_run), np.median(data_plot_best_run), np.max(data_plot_best_run)) # statistics for best run!"
   ]
  },
  {
   "cell_type": "code",
   "execution_count": null,
   "id": "80950be0-accb-4bfe-b6ba-bb5726546b5a",
   "metadata": {},
   "outputs": [],
   "source": [
    "positive_count = 0\n",
    "negative_count = 0\n",
    "\n",
    "for i in data_plot_best_run:\n",
    "    if i > 0:\n",
    "        positive_count += 1\n",
    "    else:\n",
    "        negative_count += 1\n",
    "\n",
    "print(f'Percentage of positive is {positive_count/len(data_plot_best_run)} and negative is {negative_count/len(data_plot_best_run)}')"
   ]
  },
  {
   "cell_type": "markdown",
   "id": "d531d6ba-d269-4264-a109-7e53b2394cbf",
   "metadata": {},
   "source": [
    "Worst run on average stats"
   ]
  },
  {
   "cell_type": "code",
   "execution_count": null,
   "id": "ee7a7dfa-0a96-4c34-9725-9c2b8ccc1b80",
   "metadata": {},
   "outputs": [],
   "source": [
    "# data for worst mean run\n",
    "\n",
    "n_runs = 15\n",
    "seed_exp = np.arange(n_runs)\n",
    "max_iter_best = 100\n",
    "eta_best = 3\n",
    "imp_hyperparam_best = [6, 1]\n",
    "bestN_best = 20\n",
    "bw_best = 'sj'\n",
    "\n",
    "\n",
    "f_name_uni_best = f'./data/uniform_eta_{eta_best}_max_iter_{max_iter_best}.pckl'\n",
    "uni_results_best = pickle.load(open(f_name_uni_best, 'rb'))\n",
    "\n",
    "f_name_kde_best = f'./data/kde_bw_est_{bw_best}_bestN_{bestN_best}_eta_{eta_best}_max_iter_{max_iter_best}_imp_hyp_{imp_hyperparam_best}.pckl'\n",
    "kde_results_best = pickle.load(open(f_name_kde_best, 'rb'))\n",
    "\n",
    "data_plot_worst_run = []\n",
    "for task_id in task_ids:\n",
    "    for seed in seed_exp:\n",
    "\n",
    "        scores_kde = np.max(kde_results_best[task_id][seed]['eval_history'])\n",
    "        scores_uniform = np.max(uni_results_best[task_id][seed]['eval_history'])\n",
    "        current_difference = scores_kde - scores_uniform\n",
    "        data_plot_worst_run.append(current_difference)"
   ]
  },
  {
   "cell_type": "code",
   "execution_count": null,
   "id": "67ba0c24-a743-4eb7-a5ae-f9d4a426c943",
   "metadata": {},
   "outputs": [],
   "source": [
    "print(np.mean(data_plot_worst_run), np.median(data_plot_worst_run), np.max(data_plot_worst_run)) # statistics for worst run!"
   ]
  },
  {
   "cell_type": "code",
   "execution_count": null,
   "id": "86d31e04-a511-41bf-a914-fcb46a002dfd",
   "metadata": {},
   "outputs": [],
   "source": [
    "positive_count = 0\n",
    "negative_count = 0\n",
    "\n",
    "for i in data_plot_worst_run:\n",
    "    if i > 0:\n",
    "        positive_count += 1\n",
    "    else:\n",
    "        negative_count += 1\n",
    "\n",
    "print(f'Percentage of positive is {positive_count/len(data_plot_worst_run)} and negative is {negative_count/len(data_plot_worst_run)}')"
   ]
  },
  {
   "cell_type": "markdown",
   "id": "68c3f0ca-10f9-4d28-a33c-4ab7c1173cab",
   "metadata": {},
   "source": [
    "# Plot Helping functions"
   ]
  },
  {
   "cell_type": "code",
   "execution_count": null,
   "id": "ce6fdc66-c087-4b99-9b5e-517a47c08f8f",
   "metadata": {},
   "outputs": [],
   "source": [
    "def get_violin_plot(data, ax, title, f1, f2):\n",
    "    \n",
    "    def draw_quartiles(self, ax, data, support, density, center, split=False):\n",
    "        mean_ = np.mean(data)\n",
    "        self.draw_to_density(\n",
    "            ax,\n",
    "            center,\n",
    "            mean_,\n",
    "            support,\n",
    "            density,\n",
    "            split,\n",
    "            linewidth=self.linewidth,\n",
    "        )\n",
    "    sns.set_theme()\n",
    "    sns.categorical._ViolinPlotter.draw_quartiles = draw_quartiles\n",
    "    ax.axhline(y=0, color=\"black\", linestyle=\"--\", linewidth=0.6)\n",
    "\n",
    "    sns.violinplot(data=data, bw='silverman', ax=ax, saturation=0.6, scale='width', cut=0, inner='quartile', linewidth=1.2)\n",
    "    ax.tick_params(axis='both', which='major', labelsize=10)\n",
    "    ax.tick_params(axis='both', which='minor', labelsize=8)\n",
    "    ax.get_xaxis().set_ticks([])\n",
    "    ax.set_title(f'{title}', fontsize =f1)\n",
    "    ax.set_ylabel('Improvement', fontsize =f2)\n",
    "    ax.get_xaxis().set_ticks([])\n",
    "    \n",
    "    \n",
    "def get_violin_plot1(data, ax, title, f1, f2):\n",
    "    \n",
    "    def draw_quartiles(self, ax, data, support, density, center, split=False):\n",
    "        mean_ = np.mean(data)\n",
    "        self.draw_to_density(\n",
    "            ax,\n",
    "            center,\n",
    "            mean_,\n",
    "            support,\n",
    "            density,\n",
    "            split,\n",
    "            linewidth=self.linewidth,\n",
    "        )\n",
    "    sns.set_theme()\n",
    "    sns.categorical._ViolinPlotter.draw_quartiles = draw_quartiles\n",
    "    ax.axhline(y=0, color=\"black\", linestyle=\"--\", linewidth=0.6)\n",
    "\n",
    "    sns.violinplot(data=data, bw='silverman', ax=ax, saturation=0.6, scale='width', cut=0, inner='quartile', linewidth=1.2)\n",
    "    ax.tick_params(axis='both', which='major', labelsize=10)\n",
    "    ax.tick_params(axis='both', which='minor', labelsize=8)\n",
    "    ax.get_xaxis().set_ticks([])\n",
    "    ax.set_title(f'{title}', fontsize =f1)\n",
    "    ax.get_xaxis().set_ticks([])"
   ]
  },
  {
   "cell_type": "markdown",
   "id": "8b13420d-3d66-46aa-a5b4-25a0b6f0a89b",
   "metadata": {},
   "source": [
    "Figure 8 | Violin Plot for All Hyperband runs, Best and Worst run"
   ]
  },
  {
   "cell_type": "code",
   "execution_count": null,
   "id": "ff77c6ba-dbc0-4b22-a965-d59635dfa5b7",
   "metadata": {},
   "outputs": [],
   "source": [
    "import matplotlib.pyplot as plt\n",
    "import seaborn as sns\n",
    "import matplotlib.transforms as mtransforms\n",
    "\n",
    "fig, axs = plt.subplot_mosaic([['(a)', '(b)', '(c)']], constrained_layout=True, figsize=(8, 6), sharey=True)\n",
    "\n",
    "for label, ax in axs.items():\n",
    "    # label physical distance to the left and up:\n",
    "    trans = mtransforms.ScaledTranslation(0.98, -5.2, fig.dpi_scale_trans)\n",
    "    ax.text(0.0, 1.0, label, transform=ax.transAxes + trans,\n",
    "            fontsize=10, va='bottom')\n",
    "\n",
    "get_violin_plot(data_plot, axs['(a)'], 'All runs of Hyperband', f1=13, f2=12)\n",
    "get_violin_plot1(data_plot_best_run, axs['(b)'], 'Best run', f1=13, f2=12)\n",
    "get_violin_plot1(data_plot_worst_run, axs['(c)'], 'Worst run', f1=13, f2=12)\n",
    "fig.tight_layout()\n",
    "plt.show()\n",
    "# plt.clf()\n",
    "# plt.savefig(\"hyperband_results.pdf\", dpi=600)\n"
   ]
  },
  {
   "cell_type": "markdown",
   "id": "cbd1e90e-c754-43fb-be00-672ac87e0e1f",
   "metadata": {},
   "source": [
    "Figure 9 | Violin Plot for All Hyperband runs with different important hyperparameters for which priors are learned from configurations that achieve good performances"
   ]
  },
  {
   "cell_type": "code",
   "execution_count": null,
   "id": "b1ccdfeb-f38f-4667-b901-f879c47b789f",
   "metadata": {},
   "outputs": [],
   "source": [
    "data_plot_6 = df[df['imp_hyperparams'] == '[6]']['difference'].tolist()\n",
    "data_plot_61 = df[df['imp_hyperparams'] == '[6, 1]']['difference'].tolist()\n",
    "data_plot_614 = df[df['imp_hyperparams'] == '[6, 1, 4]']['difference'].tolist()\n",
    "data_plot_6149 = df[df['imp_hyperparams'] == '[6, 1, 4, 9]']['difference'].tolist()"
   ]
  },
  {
   "cell_type": "code",
   "execution_count": null,
   "id": "fe4f317c-1f60-41f2-a500-6ae1826dee71",
   "metadata": {},
   "outputs": [],
   "source": [
    "fig, axs = plt.subplot_mosaic([['(a)', '(b)', '(c)', '(d)']], constrained_layout=True, figsize=(12, 6), sharey=True)\n",
    "\n",
    "for label, ax in axs.items():\n",
    "    # label physical distance to the left and up:\n",
    "    trans = mtransforms.ScaledTranslation(1.2, -5.2, fig.dpi_scale_trans)\n",
    "    ax.text(0.0, 1.0, label, transform=ax.transAxes + trans,\n",
    "            fontsize=10, va='bottom')\n",
    "\n",
    "get_violin_plot(data_plot_6, axs['(a)'], '{lr}', f1=11, f2=12)\n",
    "get_violin_plot1(data_plot_61, axs['(b)'], '{lr, depth}', f1=11, f2=12)\n",
    "get_violin_plot1(data_plot_614, axs['(c)'], '{lr, depth, activation}', f1=11, f2=12)\n",
    "get_violin_plot1(data_plot_6149, axs['(d)'], '{lr, depth, activation, reuploading}', f1=11, f2=12)\n",
    "fig.tight_layout()\n",
    "plt.show()\n",
    "# plt.clf()\n",
    "# plt.savefig(\"hyperband_imp_hyperparams.pdf\", dpi=600)"
   ]
  }
 ],
 "metadata": {
  "kernelspec": {
   "display_name": "Python 3 (ipykernel)",
   "language": "python",
   "name": "python3"
  },
  "language_info": {
   "codemirror_mode": {
    "name": "ipython",
    "version": 3
   },
   "file_extension": ".py",
   "mimetype": "text/x-python",
   "name": "python",
   "nbconvert_exporter": "python",
   "pygments_lexer": "ipython3",
   "version": "3.9.12"
  }
 },
 "nbformat": 4,
 "nbformat_minor": 5
}
