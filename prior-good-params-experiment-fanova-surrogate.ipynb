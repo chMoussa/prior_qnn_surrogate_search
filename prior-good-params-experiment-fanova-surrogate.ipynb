{
 "cells": [
  {
   "cell_type": "code",
   "execution_count": 1,
   "id": "70914c5f-4b5e-4a69-a68e-45b67871af10",
   "metadata": {},
   "outputs": [],
   "source": [
    "import os\n",
    "import pickle\n",
    "from scipy.stats import gaussian_kde\n",
    "from sklearn.neighbors import KernelDensity"
   ]
  },
  {
   "cell_type": "code",
   "execution_count": 2,
   "id": "f9ac80e9-d8d2-4c70-9afd-fd457ea3597b",
   "metadata": {},
   "outputs": [],
   "source": [
    "from srcfanova.confspace_utils import get_configspace, integer_encode_dataframe\n",
    "\n",
    "\n",
    "import itertools as it\n",
    "from collections import OrderedDict\n",
    "\n",
    "import ConfigSpace\n",
    "import numpy as np\n",
    "import pandas as pd\n",
    "import pyrfr.regression as reg\n",
    "import pyrfr.util\n",
    "from ConfigSpace.hyperparameters import CategoricalHyperparameter, UniformFloatHyperparameter, \\\n",
    "    NumericalHyperparameter, Constant, OrdinalHyperparameter\n",
    "\n",
    "from surrogate import fANOVA_surrogate\n",
    "from hyperband_infinite import HyperBandOptimiser\n",
    "\n",
    "from typing import List"
   ]
  },
  {
   "cell_type": "markdown",
   "id": "76254a17-97c3-4219-86d9-94a04bb9b99b",
   "metadata": {},
   "source": [
    "# Prepare data for fitting surrogate models "
   ]
  },
  {
   "cell_type": "code",
   "execution_count": 3,
   "id": "b4d830e3-d523-4e23-bab6-f3c1c4660dac",
   "metadata": {},
   "outputs": [],
   "source": [
    "dataf = pd.read_csv('./results_hyper.csv', sep=\",\")\n",
    "\n",
    "# removing these two datasets because the performance can not be explained using ANOVA\n",
    "dataf = dataf[dataf.dataset != 'ilpd']\n",
    "dataf = dataf[dataf.dataset != 'blood-transfusion-service-center']\n",
    "dataf = dataf.reset_index()\n",
    "task_ids = sorted(dataf['task_id'].unique())\n",
    "\n",
    "measure = 'val_binary_accuracy'\n",
    "\n",
    "# important hyperparameter keys to consider: learning_rate, depth, use_reuploading, input_activation_function\n",
    "# make sure data is numerical and in right order for configspace\n",
    "config_space = get_configspace(bool(1))\n",
    "cs_params = config_space.get_hyperparameter_names()\n",
    "\n",
    "original_df = dataf.loc[:, [cs_params[i] for i in range(len(cs_params))]]\n",
    "\n",
    "data = dataf.loc[:, [cs_params[i] for i in range(len(cs_params))]]\n",
    "data = integer_encode_dataframe(data, config_space)\n",
    "data['task_id'] = dataf.task_id\n",
    "data['dataset'] = dataf.dataset\n",
    "data[measure] = dataf[measure]"
   ]
  },
  {
   "cell_type": "markdown",
   "id": "737a54af-ce01-4be9-8942-12483ebb82cf",
   "metadata": {},
   "source": [
    "# Fit surrogate models"
   ]
  },
  {
   "cell_type": "code",
   "execution_count": 5,
   "id": "15a2fcb5-c216-47c9-b4b0-0779522af56e",
   "metadata": {},
   "outputs": [],
   "source": [
    "model_per_task = {}\n",
    "n_trees= 128\n",
    "\n",
    "for t_idx, task_id in enumerate(task_ids):\n",
    "    \n",
    "    data_task = data[data['task_id'] == task_id]\n",
    "    del data_task['task_id']\n",
    "    del data_task['dataset']\n",
    "    \n",
    "    y_data = data_task[measure].values\n",
    "    X_data = data_task.copy()\n",
    "    del X_data[measure]\n",
    "    \n",
    "    model_per_task[task_id] = fANOVA_surrogate(X=X_data, Y=y_data, n_trees=n_trees, seed=t_idx)"
   ]
  },
  {
   "cell_type": "markdown",
   "id": "0f18a5eb-a993-4fda-881e-18f7adfbcd9b",
   "metadata": {},
   "source": [
    "# Hyperband Optimisation Uniform vs KDE Prior Experiment\n",
    "\n",
    "The experiment configuration for the uniform prior experiment is defined in the next cell."
   ]
  },
  {
   "cell_type": "code",
   "execution_count": 6,
   "id": "98eaa15f-f0b0-4ea0-8dcd-b5d47e4b3709",
   "metadata": {},
   "outputs": [],
   "source": [
    "n_runs = 15\n",
    "\n",
    "seed_exp = np.arange(n_runs)\n",
    "eta_exp = [2, 3, 4] # halving factor\n",
    "starting_budget_exp = [int(1e3), int(1e4)] # starting budget, can be though of as number of shots to compute the expectation value.\n",
    "max_k_exp = [4, 5, 6] # defines how many iterations does the hyperband algorithm run for; also called s_max in the paper.\n",
    "search_type = 'uniform' "
   ]
  },
  {
   "cell_type": "markdown",
   "id": "07027eea-549c-4f45-8003-fcb3f6015267",
   "metadata": {},
   "source": [
    "# Run hyperband algorithm with uniform priors\n",
    "\n",
    "Doing a search over hyperparameter configuration space by employing hyperband with uniform sampling of hyperparameters. The objective is to find the hyperparameter configuration which gives maximum validation accuracy of the surrogate model."
   ]
  },
  {
   "cell_type": "code",
   "execution_count": null,
   "id": "5a13f7a5-b765-4888-8e5a-0960c2833b4f",
   "metadata": {},
   "outputs": [],
   "source": [
    "# For uniform prior experiments\n",
    "\n",
    "for max_k in max_k_exp:\n",
    "    for eta in eta_exp:\n",
    "        for starting_budget in starting_budget_exp:\n",
    "            for task_id in task_ids:\n",
    "                for seed in seed_exp:\n",
    "                    optimiser = HyperBandOptimiser(eta=eta,\n",
    "                                                   config_space=config_space,\n",
    "                                                   optimisation_goal='performance',\n",
    "                                                   max_k=max_k,\n",
    "                                                   min_or_max=max,\n",
    "                                                   task_id=task_id,\n",
    "                                                   starting_shots_nb=starting_budget,\n",
    "                                                   search_type=search_type,\n",
    "                                                   seed_nb=seed)\n",
    "                    optimiser.run_optimisation(model_for_task_id=model_per_task[task_id],\n",
    "                                               min_configs=eta,\n",
    "                                               all_data=data,\n",
    "                                               store_optimiser=True,\n",
    "                                               verbosity=False)"
   ]
  },
  {
   "cell_type": "markdown",
   "id": "1b606e57-9129-4822-a93c-499a3561c802",
   "metadata": {},
   "source": [
    "# Retrieve & Save necessary results  "
   ]
  },
  {
   "cell_type": "code",
   "execution_count": null,
   "id": "a23168c3-b4a0-4dda-b855-13030af3379f",
   "metadata": {},
   "outputs": [],
   "source": [
    "\n",
    "for max_k in max_k_exp:\n",
    "    for eta in eta_exp:\n",
    "        for starting_budget in starting_budget_exp:\n",
    "            \n",
    "            results = {}\n",
    "            for task_id in task_ids:\n",
    "                results[task_id] = {}\n",
    "                \n",
    "            for task_id in task_ids:\n",
    "                for seed in seed_exp:\n",
    "                    f_name = f'./optimiser/{search_type}/task_id{task_id}_search_{search_type}_eta_{eta}_max_k_{max_k}_shots_{starting_budget}_seed_{seed}.pckl'\n",
    "                    optimiser = pickle.load(open(f_name, 'rb'))\n",
    "                    results[task_id][seed] = optimiser.eval_history\n",
    "                    \n",
    "                    f_name = f'./data/{search_type}_eta_{eta}_max_k_{max_k}_shots_{starting_budget}.pckl'\n",
    "                    os.makedirs(os.path.dirname(f_name), exist_ok=True)\n",
    "                    pickle.dump(results, open(f_name, 'wb'), protocol=pickle.HIGHEST_PROTOCOL)\n",
    "                    "
   ]
  },
  {
   "cell_type": "markdown",
   "id": "bfbcba01-b92a-483b-bb80-354278324c9f",
   "metadata": {},
   "source": [
    "# Run hyperband algorithm with KDE priors"
   ]
  },
  {
   "cell_type": "markdown",
   "id": "394715e7-45ea-48ab-87be-5f7474a6b302",
   "metadata": {},
   "source": [
    "The experiment configuration for the uniform prior experiment is defined in the next cell."
   ]
  },
  {
   "cell_type": "code",
   "execution_count": null,
   "id": "40145d82-9676-4a49-8994-8fe2c9971a19",
   "metadata": {},
   "outputs": [],
   "source": [
    "n_runs = 15\n",
    "\n",
    "best_N_exp = [10, 20]\n",
    "seed_exp = np.arange(n_runs)\n",
    "eta_exp = [2, 3, 4]\n",
    "starting_budget_exp = [int(1e3), int(1e4)]\n",
    "max_k_exp = [4, 5, 6]\n",
    "search_type = 'kde'\n",
    "\n",
    "# this is given as a list of a list, where the inside list contains the indices of (important) hyperparameters\n",
    "# Index {6: learning_rate, 1: depth, 4: input_activation_function, 9: use_reuploading}\n",
    "imp_hyperparams_list_exp = [[6], [6, 1], [6, 1, 4], [6, 1, 4, 9]]\n",
    "kde_bw_estimator_exp = ['sj', 'silverman'] # bandwith estimator for Kernel Density to fit the data"
   ]
  },
  {
   "cell_type": "markdown",
   "id": "9f6f7336-3d78-4719-a4b8-c7bcb4023573",
   "metadata": {},
   "source": [
    "Doing a search over hyperparameter configuration space by employing hyperband with (some, mostly important ones) hyperparameters sampled from kernel density estimator which is fitted with best_N performing hyperparameter configurations for each task."
   ]
  },
  {
   "cell_type": "code",
   "execution_count": null,
   "id": "f22b4092-57f5-4b56-9b8d-222adb62dd03",
   "metadata": {},
   "outputs": [],
   "source": [
    "# For kde prior experiments\n",
    "\n",
    "for imp_hyperparams_list in imp_hyperparams_list_exp:\n",
    "    for max_k in max_k_exp:\n",
    "        for eta in eta_exp:\n",
    "            for starting_budget in starting_budget_exp:\n",
    "                for best_N in best_N_exp:\n",
    "                    for kde_bw_estimator in kde_bw_estimator_exp:\n",
    "                        for task_id in task_ids:\n",
    "                            for seed in seed_exp:\n",
    "                                optimiser = HyperBandOptimiser(eta=eta,\n",
    "                                                               config_space=config_space,\n",
    "                                                               optimisation_goal='performance',\n",
    "                                                               max_k=max_k,\n",
    "                                                               min_or_max=max,\n",
    "                                                               task_id=task_id,\n",
    "                                                               starting_shots_nb=starting_budget,\n",
    "                                                               search_type=search_type,\n",
    "                                                               important_hyperparams_indices=imp_hyperparams_list,\n",
    "                                                               best_N=best_N,\n",
    "                                                               seed_nb=seed,\n",
    "                                                               kde_bw_estimator=kde_bw_estimator,\n",
    "                                                               kde_bw=None,\n",
    "                                                               pickle_path=None)\n",
    "                                optimiser.run_optimisation(model_for_task_id=model_per_task[task_id],\n",
    "                                                           min_configs=eta,\n",
    "                                                           all_data=data,\n",
    "                                                           store_optimiser=True,\n",
    "                                                           verbosity=False)"
   ]
  },
  {
   "cell_type": "markdown",
   "id": "dd7b5218-8b49-40b9-ae8e-020ad0cead95",
   "metadata": {},
   "source": [
    "# Retrieve & Save necessary results  "
   ]
  },
  {
   "cell_type": "code",
   "execution_count": null,
   "id": "8b186eed-415b-4302-9a25-782c735e63a4",
   "metadata": {},
   "outputs": [],
   "source": [
    "\n",
    "for imp_hyperparams_list in imp_hyperparams_list_exp:\n",
    "    for max_k in max_k_exp:\n",
    "        for eta in eta_exp:\n",
    "            for starting_budget in starting_budget_exp:\n",
    "                for best_N in best_N_exp:\n",
    "                    for kde_bw_estimator in kde_bw_estimator_exp:\n",
    "                        \n",
    "                        results = {}\n",
    "                        for task_id in task_ids:\n",
    "                            results[task_id] = {}\n",
    "                        \n",
    "                        for task_id in task_ids:\n",
    "                            for seed in seed_exp:\n",
    "                                opt_f_name = f'./optimiser/{search_type}/task_id{task_id}_search_{search_type}_bw_None_bw_est_{kde_bw_estimator}_bestN_{best_N}_eta_{eta}_max_k_{max_k}_shots_{starting_budget}_imp_hyp_{imp_hyperparams_list}_seed_{seed}.pckl'\n",
    "                                optimiser = pickle.load(open(opt_f_name, 'rb'))\n",
    "                                results[task_id][seed] = optimiser.eval_history\n",
    "                        f_name = f'./data/{search_type}_bw_est_{kde_bw_estimator}_bestN_{best_N}_eta_{eta}_max_k_{max_k}_shots_{starting_budget}_imp_hyp_{imp_hyperparams_list}.pckl'\n",
    "                        os.makedirs(os.path.dirname(f_name), exist_ok=True)\n",
    "                        pickle.dump(results, open(f_name, 'wb'), protocol=pickle.HIGHEST_PROTOCOL)\n",
    "                        "
   ]
  },
  {
   "cell_type": "markdown",
   "id": "bc9e779d-8fd8-46f7-9f9f-3e5e8062fb07",
   "metadata": {},
   "source": [
    "# Plot that Data Darn It!"
   ]
  },
  {
   "cell_type": "code",
   "execution_count": null,
   "id": "499ae077-6c9f-4d9f-bc42-982479cfef59",
   "metadata": {},
   "outputs": [],
   "source": [
    "data_directory = './data/'\n",
    "df = pd.DataFrame(columns=['task_id', 'seed', 'max_k', 'eta', 'starting_budget', 'imp_hyperparams', 'best_N', 'bw_estimator', 'mean_result_kde', 'mean_result_uniform', 'difference'])"
   ]
  },
  {
   "cell_type": "code",
   "execution_count": null,
   "id": "a74b60d8-fba1-4055-b05d-481e26fab581",
   "metadata": {},
   "outputs": [],
   "source": [
    "\n",
    "for imp_hyperparams_list in imp_hyperparams_list_exp:\n",
    "    for max_k in max_k_exp:\n",
    "        for eta in eta_exp:\n",
    "            for starting_budget in starting_budget_exp:\n",
    "            \n",
    "                f_uni_name = data_directory + f'uniform_eta_{eta}_max_k_{max_k}_shots_{starting_budget}.pckl'\n",
    "                uni_results = pickle.load(open(f_uni_name, 'rb'))\n",
    "            \n",
    "                for best_N in best_N_exp:\n",
    "                    for kde_bw_estimator in kde_bw_estimator_exp:\n",
    "                        data = []                                \n",
    "                        f_kde_name = data_directory + f'kde_bw_est_{kde_bw_estimator}_bestN_{best_N}_eta_{eta}_max_k_{max_k}_shots_{int(starting_budget)}_imp_hyp_{imp_hyperparams_list}.pckl'\n",
    "                        kde_results = pickle.load(open(f_kde_name, 'rb'))\n",
    "                        \n",
    "                        for task_id in task_ids:\n",
    "                            for seed in seed_exp:\n",
    "\n",
    "                                # we do this by taking either taking the max, median or mean of eval_history\n",
    "                                scores_kde = np.mean(kde_results[task_id][seed])\n",
    "                                scores_uniform = np.mean(uni_results[task_id][seed])\n",
    "                                current_difference = scores_kde - scores_uniform\n",
    "                                data.append(current_difference)\n",
    "                                \n",
    "                                current_row = {'task_id': task_id, 'seed': seed, 'max_k': max_k, 'eta': eta, 'starting_budget': starting_budget, 'imp_hyperparams': imp_hyperparams_list, 'best_N': best_N, 'bw_estimator': kde_bw_estimator, 'mean_result_kde': scores_kde, 'mean_result_uniform': scores_uniform, 'difference': current_difference}\n",
    "                                df = df.append(current_row, ignore_index=True)\n",
    "                        \n",
    "                        plt.figure(figsize=(3, 6))\n",
    "                        plt.tick_params(axis='x', which='both', bottom='off', top='off', labelbottom='off')\n",
    "                        plt.plot([0.5, 1.5], [0, 0], 'k-', linestyle='--', lw=1)\n",
    "                        plt.violinplot(data)\n",
    "\n",
    "                        plt.xlabel(f'{kde_bw_estimator}_{best_N}N_{eta}eta_{max_k}k_{int(starting_budget)}s_{imp_hyperparams_list}', fontweight='bold')\n",
    "                        plt.tight_layout()\n",
    "                        plot_name = f'./plots/uniform_v_kde_bw_est_{kde_bw_estimator}_bestN_{best_N}_eta_{eta}_max_k_{max_k}_shots_{int(starting_budget)}_imp_hyp_{imp_hyperparams_list}.pdf'\n",
    "                        os.makedirs(os.path.dirname(plot_name), exist_ok=True)\n",
    "                        plt.savefig(plot_name, bbox_inches='tight')\n",
    "                        plt.clf()\n",
    "                        "
   ]
  }
 ],
 "metadata": {
  "kernelspec": {
   "display_name": "Python 3 (ipykernel)",
   "language": "python",
   "name": "python3"
  },
  "language_info": {
   "codemirror_mode": {
    "name": "ipython",
    "version": 3
   },
   "file_extension": ".py",
   "mimetype": "text/x-python",
   "name": "python",
   "nbconvert_exporter": "python",
   "pygments_lexer": "ipython3",
   "version": "3.9.15"
  }
 },
 "nbformat": 4,
 "nbformat_minor": 5
}
